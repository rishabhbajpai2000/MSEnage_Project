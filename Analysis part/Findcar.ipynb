{
 "cells": [
  {
   "cell_type": "code",
   "execution_count": 33,
   "metadata": {},
   "outputs": [],
   "source": [
    "# reading the file\n",
    "import pandas as pd\n",
    "main_data = pd.read_csv(\"Data.csv\")\n",
    "\n",
    "# cleaning the data\n",
    "# making the values of the as float from intger.  \n",
    "main_data[\"ARAI_Certified_Mileage_kmpl\"].astype(float)\n",
    "\n",
    "test_data = main_data.head()\n",
    "#writing the main function\n",
    "def cars(cost_min, cost_max, brand, mileage_min, mileage_max, p_d_cng, seating, data=main_data):\n",
    "    filter_p = data[data[\"Ex-Showroom_Price\"].isin(range(cost_min,cost_max))]\n",
    "    # return filter_p\n",
    "    filter_b_p = filter_p[filter_p[\"Make\"] == brand]\n",
    "    # return filter_b_p\n",
    "    filter_b_p_t = filter_b_p[filter_b_p[\"Fuel_Type\"]  == p_d_cng]\n",
    "    # return filter_b_p_t\n",
    "    filter_b_m_p_t = filter_b_p_t[filter_b_p_t[\"ARAI_Certified_Mileage_kmpl\"].isin(range(mileage_min, mileage_max))]\n",
    "    # return filter_b_m_p_t\n",
    "    filter_b_m_p_s_t = filter_b_m_p_t[filter_b_m_p_t[\"Seating_Capacity\"] == seating]\n",
    "    # return filter_b_m_p_s_t\n",
    "    return filter_b_m_p_s_t.sort_values(\"Ex-Showroom_Price\").head()\n",
    "    return filter_b_m_p_s_t \n",
    "\n",
    "ans = cars(cost_min=100000, cost_max=1000000, brand=\"Tata\", mileage_min=10, mileage_max=30, p_d_cng=\"Petrol\", seating=5)\n",
    "\n"
   ]
  },
  {
   "cell_type": "code",
   "execution_count": 22,
   "metadata": {},
   "outputs": [],
   "source": [
    "# reading the file\n",
    "import pandas as pd\n",
    "main_data = pd.read_csv(\"Data.csv\")\n",
    "\n",
    "# cleaning the data\n",
    "# making the values of the as float from intger.  \n",
    "main_data[\"ARAI_Certified_Mileage_kmpl\"].astype(float)\n",
    "# removing the duplicates based on the rows\n",
    "# main_data = main_data.drop_duplicates(subset=\"Model\")\n",
    "# for now top cars = data.head\n",
    "top_cars =main_data[main_data['Model'].isin([\"Scorpio\", \"Thar\", \"Xuv500\", \"Fortuner\",\"Vitara Brezza\"])]\n",
    "# average top cars \n",
    "# testing the always returing some value function\n",
    "def cars(cost_min, cost_max, brand, mileage_min, mileage_max, p_d_cng, seating, data=main_data):\n",
    "    #simple validating the inputs\n",
    "    try:\n",
    "        cost_min = int(cost_min)\n",
    "    except:\n",
    "        return \"You have entered invalid minimum cost, please re-enter\"\n",
    "    try:\n",
    "        cost_max = int(cost_max)\n",
    "    except:\n",
    "        return \"You have entered invalid maximum cost, please re-enter\"\n",
    "    try:\n",
    "        mileage_min = int(mileage_min)\n",
    "    except:\n",
    "        return \"You have entered invalid mimum mileage, please re-enter\"\n",
    "    try:\n",
    "        mileage_max = int(mileage_max)\n",
    "    except:\n",
    "        return \"you have entered invalid max mileage, please re-enter\"\n",
    "\n",
    "    \n",
    "    \n",
    "    \n",
    "    filter_p = data[data[\"Ex-Showroom_Price\"].isin(range(min(cost_min,cost_max), max(cost_min,cost_max)))]\n",
    "    if (len(filter_p) == 0):\n",
    "        return top_cars.sort_values(\"Ex-Showroom_Price\").head()\n",
    "\n",
    "    filter_b_p = filter_p[filter_p[\"Make\"] == brand]\n",
    "    if (len(filter_b_p) == 0):\n",
    "        return filter_p.sort_values(\"Ex-Showroom_Price\").head()\n",
    "\n",
    "    filter_b_p_t = filter_b_p[filter_b_p[\"Fuel_Type\"]  == p_d_cng]\n",
    "    if (len(filter_b_p_t) == 0):\n",
    "        return filter_b_p.sort_values(\"Ex-Showroom_Price\").head()\n",
    "\n",
    "    filter_b_m_p_t = filter_b_p_t[filter_b_p_t[\"ARAI_Certified_Mileage_kmpl\"].isin(range(min(mileage_min, mileage_max), max(mileage_min, mileage_max)))]\n",
    "    if (len(filter_b_m_p_t) == 0):\n",
    "        return filter_b_p_t.sort_values(\"Ex-Showroom_Price\").head()\n",
    "\n",
    "    filter_b_m_p_s_t = filter_b_m_p_t[filter_b_m_p_t[\"Seating_Capacity\"] == seating]\n",
    "    if (len(filter_b_m_p_s_t) == 0):\n",
    "        return filter_b_m_p_t.sort_values(\"Ex-Showroom_Price\").head()\n",
    "    \n",
    "    \n",
    "\n"
   ]
  },
  {
   "cell_type": "code",
   "execution_count": 23,
   "metadata": {},
   "outputs": [],
   "source": [
    "# testing the fucntion\n",
    "ans = cars(cost_min=1, cost_max=1000000, brand=\"Audi\", mileage_min=1, mileage_max=1000, p_d_cng=\"Diesel\", seating=5)"
   ]
  },
  {
   "cell_type": "code",
   "execution_count": null,
   "metadata": {},
   "outputs": [],
   "source": [
    "top_cars =main_data[main_data['Model'].isin([\"Scorpio\", \"Thar\", \"Xuv500\", \"Fortuner\",\"Vitara Brezza\"])]"
   ]
  },
  {
   "cell_type": "code",
   "execution_count": 28,
   "metadata": {},
   "outputs": [
    {
     "data": {
      "text/plain": [
       "array(['Aston Martin', 'Audi', 'Bajaj', 'Bentley', 'Bmw', 'Bugatti',\n",
       "       'Datsun', 'Dc', 'Ferrari', 'Fiat', 'Force', 'Ford', 'Honda',\n",
       "       'Hyundai', 'Icml', 'Isuzu', 'Jaguar', 'Jeep', 'Kia', 'Lamborghini',\n",
       "       'Land Rover', 'Land Rover Rover', 'Lexus', 'Mahindra',\n",
       "       'Maruti Suzuki', 'Maruti Suzuki R', 'Maserati', 'Mg', 'Mini',\n",
       "       'Mitsubishi', 'Nissan', 'Porsche', 'Premier', 'Renault', 'Skoda',\n",
       "       'Tata', 'Toyota', 'Volkswagen', 'Volvo', nan], dtype=object)"
      ]
     },
     "execution_count": 28,
     "metadata": {},
     "output_type": "execute_result"
    }
   ],
   "source": [
    "# finding the names of the unique car companies\n",
    "main_data[\"Make\"].unique()"
   ]
  },
  {
   "cell_type": "code",
   "execution_count": null,
   "metadata": {},
   "outputs": [],
   "source": []
  }
 ],
 "metadata": {
  "interpreter": {
   "hash": "bf1aa89ba56c69b21612f39ac0d4fe38e3d449140c89ae095bea97962d54da36"
  },
  "kernelspec": {
   "display_name": "Python 3.9.7 64-bit",
   "language": "python",
   "name": "python3"
  },
  "language_info": {
   "codemirror_mode": {
    "name": "ipython",
    "version": 3
   },
   "file_extension": ".py",
   "mimetype": "text/x-python",
   "name": "python",
   "nbconvert_exporter": "python",
   "pygments_lexer": "ipython3",
   "version": "3.9.7"
  },
  "orig_nbformat": 4
 },
 "nbformat": 4,
 "nbformat_minor": 2
}
